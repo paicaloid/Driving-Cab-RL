{
 "cells": [
  {
   "cell_type": "code",
   "execution_count": 15,
   "metadata": {},
   "outputs": [],
   "source": [
    "import gym\n",
    "import numpy as np\n",
    "import random\n",
    "from utils import run_animation, store_episode_as_gif\n",
    "from IPython.display import clear_output\n",
    "\n",
    "env = gym.make(\"Taxi-v3\", render_mode=\"rgb_array\").env"
   ]
  },
  {
   "cell_type": "code",
   "execution_count": 16,
   "metadata": {},
   "outputs": [],
   "source": [
    "\"\"\"Training the agent\"\"\"\n",
    "q_table = np.zeros([env.observation_space.n, env.action_space.n])\n",
    "\n",
    "# Hyperparameters\n",
    "alpha = 0.1  # Learning rate\n",
    "gamma = 1.0  # Discount rate\n",
    "epsilon = 0.1  # Exploration rate\n",
    "num_episodes = 10000  # Number of episodes\n",
    "\n",
    "# Output for plots\n",
    "cum_rewards = np.zeros([num_episodes])\n",
    "total_epochs = np.zeros([num_episodes])"
   ]
  },
  {
   "cell_type": "code",
   "execution_count": 17,
   "metadata": {},
   "outputs": [
    {
     "name": "stdout",
     "output_type": "stream",
     "text": [
      "Episode #: 100\n",
      "Episode #: 200\n",
      "Episode #: 300\n",
      "Episode #: 400\n",
      "Episode #: 500\n",
      "Episode #: 600\n",
      "Episode #: 700\n",
      "Episode #: 800\n",
      "Episode #: 900\n",
      "Episode #: 1000\n",
      "Episode #: 1100\n",
      "Episode #: 1200\n",
      "Episode #: 1300\n",
      "Episode #: 1400\n",
      "Episode #: 1500\n",
      "Episode #: 1600\n",
      "Episode #: 1700\n",
      "Episode #: 1800\n",
      "Episode #: 1900\n",
      "Episode #: 2000\n",
      "Episode #: 2100\n",
      "Episode #: 2200\n",
      "Episode #: 2300\n",
      "Episode #: 2400\n",
      "Episode #: 2500\n",
      "Episode #: 2600\n",
      "Episode #: 2700\n",
      "Episode #: 2800\n",
      "Episode #: 2900\n",
      "Episode #: 3000\n",
      "Episode #: 3100\n",
      "Episode #: 3200\n",
      "Episode #: 3300\n",
      "Episode #: 3400\n",
      "Episode #: 3500\n",
      "Episode #: 3600\n",
      "Episode #: 3700\n",
      "Episode #: 3800\n",
      "Episode #: 3900\n",
      "Episode #: 4000\n",
      "Episode #: 4100\n",
      "Episode #: 4200\n",
      "Episode #: 4300\n",
      "Episode #: 4400\n",
      "Episode #: 4500\n",
      "Episode #: 4600\n",
      "Episode #: 4700\n",
      "Episode #: 4800\n",
      "Episode #: 4900\n",
      "Episode #: 5000\n",
      "Episode #: 5100\n",
      "Episode #: 5200\n",
      "Episode #: 5300\n",
      "Episode #: 5400\n",
      "Episode #: 5500\n",
      "Episode #: 5600\n",
      "Episode #: 5700\n",
      "Episode #: 5800\n",
      "Episode #: 5900\n",
      "Episode #: 6000\n",
      "Episode #: 6100\n",
      "Episode #: 6200\n",
      "Episode #: 6300\n",
      "Episode #: 6400\n",
      "Episode #: 6500\n",
      "Episode #: 6600\n",
      "Episode #: 6700\n",
      "Episode #: 6800\n",
      "Episode #: 6900\n",
      "Episode #: 7000\n",
      "Episode #: 7100\n",
      "Episode #: 7200\n",
      "Episode #: 7300\n",
      "Episode #: 7400\n",
      "Episode #: 7500\n",
      "Episode #: 7600\n",
      "Episode #: 7700\n",
      "Episode #: 7800\n",
      "Episode #: 7900\n",
      "Episode #: 8000\n",
      "Episode #: 8100\n",
      "Episode #: 8200\n",
      "Episode #: 8300\n",
      "Episode #: 8400\n",
      "Episode #: 8500\n",
      "Episode #: 8600\n",
      "Episode #: 8700\n",
      "Episode #: 8800\n",
      "Episode #: 8900\n",
      "Episode #: 9000\n",
      "Episode #: 9100\n",
      "Episode #: 9200\n",
      "Episode #: 9300\n",
      "Episode #: 9400\n",
      "Episode #: 9500\n",
      "Episode #: 9600\n",
      "Episode #: 9700\n",
      "Episode #: 9800\n",
      "Episode #: 9900\n",
      "Episode #: 10000\n"
     ]
    }
   ],
   "source": [
    "for episode in range(1, num_episodes+1):\n",
    "    # Reset environment\n",
    "    state, info = env.reset()\n",
    "    epoch = 0 \n",
    "    num_failed_dropoffs = 0\n",
    "    done = False\n",
    "    cum_reward = 0\n",
    "\n",
    "    while not done:\n",
    "        \n",
    "        if random.uniform(0, 1) < epsilon:\n",
    "            \"Basic exploration [~0.47m]\"\n",
    "            action = env.action_space.sample() # Sample random action (exploration)\n",
    "            \n",
    "            \"Exploration with action mask [~1.52m]\"\n",
    "            # action = env.action_space.sample(env.action_mask(state)) \"Exploration with action mask\"\n",
    "        else:      \n",
    "            \"Exploitation with action mask [~1m52s]\"\n",
    "            # action_mask = np.where(info[\"action_mask\"]==1,0,1) # invert\n",
    "            # masked_q_values = np.ma.array(q_table[state], mask=action_mask, dtype=np.float32)\n",
    "            # action = np.ma.argmax(masked_q_values, axis=0)\n",
    "\n",
    "            \"Exploitation with random tie breaker [~1m19s]\"\n",
    "            #  action = np.random.choice(np.flatnonzero(q_table[state] == q_table[state].max()))\n",
    "            \n",
    "            \"Basic exploitation [~47s]\"\n",
    "            action = np.argmax(q_table[state]) # Select best known action (exploitation)\n",
    "\n",
    "        next_state, reward, done, _ , info = env.step(action) \n",
    "\n",
    "        cum_reward += reward\n",
    "        \n",
    "        old_q_value = q_table[state, action]\n",
    "        next_max = np.max(q_table[next_state])\n",
    "        \n",
    "        new_q_value = (1 - alpha) * old_q_value + alpha * (reward + gamma * next_max)\n",
    "        \n",
    "        q_table[state, action] = new_q_value\n",
    "        \n",
    "        if reward == -10:\n",
    "            num_failed_dropoffs += 1\n",
    "\n",
    "        state = next_state\n",
    "        epoch += 1\n",
    "        \n",
    "        total_epochs[episode-1] = epoch\n",
    "        cum_rewards[episode-1] = cum_reward\n",
    "\n",
    "    if episode % 100 == 0:\n",
    "        # clear_output(wait=True)\n",
    "        print(f\"Episode #: {episode}\")"
   ]
  },
  {
   "cell_type": "code",
   "execution_count": 19,
   "metadata": {},
   "outputs": [
    {
     "data": {
      "image/png": "[encoded data removed]",
      "text/plain": [
       "<Figure size 640x480 with 1 Axes>"
      ]
     },
     "metadata": {},
     "output_type": "display_data"
    }
   ],
   "source": [
    "import matplotlib.pyplot as plt\n",
    "# Plot reward convergence\n",
    "plt.title(\"Cumulative reward per episode\")\n",
    "plt.xlabel(\"Episode\")\n",
    "plt.ylabel(\"Cumulative reward\")\n",
    "plt.plot(cum_rewards)\n",
    "plt.show()"
   ]
  },
  {
   "cell_type": "code",
   "execution_count": 21,
   "metadata": {},
   "outputs": [
    {
     "data": {
      "text/plain": [
       "array([[ 0.        ,  0.        ,  0.        ,  0.        ,  0.        ,\n",
       "         0.        ],\n",
       "       [ 6.47336746,  4.23199967,  4.52371082,  5.114108  , 11.        ,\n",
       "        -0.51381424],\n",
       "       [ 9.65553422, 11.16737641,  8.40532727,  9.48116965, 15.        ,\n",
       "         2.94023833],\n",
       "       ...,\n",
       "       [-1.        , 12.13057883,  0.79493769, -0.92695604, -1.9281    ,\n",
       "        -1.        ],\n",
       "       [-1.6843324 , -2.44527497, -2.48952099,  8.98217603, -3.80563549,\n",
       "        -2.98825376],\n",
       "       [-0.2       , -0.2       , -0.2       , 18.52465072, -0.73571158,\n",
       "        -1.        ]])"
      ]
     },
     "execution_count": 21,
     "metadata": {},
     "output_type": "execute_result"
    }
   ],
   "source": [
    "q_table"
   ]
  },
  {
   "cell_type": "code",
   "execution_count": 22,
   "metadata": {},
   "outputs": [],
   "source": [
    "np.save(\"q_table.npy\", q_table)"
   ]
  }
 ],
 "metadata": {
  "kernelspec": {
   "display_name": ".venv",
   "language": "python",
   "name": "python3"
  },
  "language_info": {
   "codemirror_mode": {
    "name": "ipython",
    "version": 3
   },
   "file_extension": ".py",
   "mimetype": "text/x-python",
   "name": "python",
   "nbconvert_exporter": "python",
   "pygments_lexer": "ipython3",
   "version": "3.8.0"
  },
  "orig_nbformat": 4
 },
 "nbformat": 4,
 "nbformat_minor": 2
}
